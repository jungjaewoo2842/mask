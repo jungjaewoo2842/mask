import tensorflow as tf
import numpy as np
import time
import cv2

imput_size =(224,224)

cap = cv2.VideoCapture(0)

cap.set(cv2.CAP_PROP_BUFFERSIZE, 5)

model = tf.keras.models.load_model("/keras_model.h5", compile=False)

while cap.isOpened():

    start_time=time.time()

    ret, frame= cap.read()
    if not ret:
        break

        model_frame=cv2.resize(frame, input_size, frame)
        model_frame=np.expend_dims(model_frame, axis=0)/255.0

        is_mask_prob = model.predict(model_frame)[0]
        is_mask = np.argmax(is_mask_prob)

        inference_time = time.time() - start_time
        fps = 1/ inference_time
        fps_msg = "Time: {:05.1f}ms{:.1f} FPS".format(inference_time * 1000, fps)

        if is_mask == 0:
            msg_mask = "Mask On"
        else:
            msg_mask = "Mask Off"

        msg_mask += "({:.1f})%".format(is_mask_prob[is_mask]*100)

        cv2.putText(frame, fps_msg, (10, 30), cv2.FONT_HERSHEY_SIMPLEX, 1, (255,0,0), thickness=1)
        cv2.putText(frame, msg_mask, (10, 70), cv2.FONT_HERSHEY_SIMPLEX, 1, (0,0,255), thickness=2)  

        cv2.imshow('Wear a face mask', frame)

        if cv2.waitkey(25) & 0xFF ==ord('q'):
            break 
